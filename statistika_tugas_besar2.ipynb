{
  "nbformat": 4,
  "nbformat_minor": 0,
  "metadata": {
    "colab": {
      "name": "statistika tugas besar2.ipynb",
      "provenance": [],
      "collapsed_sections": []
    },
    "kernelspec": {
      "name": "python3",
      "display_name": "Python 3"
    },
    "language_info": {
      "name": "python"
    }
  },
  "cells": [
    {
      "cell_type": "code",
      "execution_count": 1,
      "metadata": {
        "id": "2_eDGELPdqB-"
      },
      "outputs": [],
      "source": [
        "import numpy as np\n",
        "import pandas as pd\n",
        "import matplotlib.pyplot as plt\n",
        "\n",
        "%matplotlib inline"
      ]
    },
    {
      "cell_type": "code",
      "source": [
        "from sklearn import datasets, linear_model\n",
        "from sklearn.metrics import mean_squared_error, r2_score, mean_absolute_error"
      ],
      "metadata": {
        "id": "bbFGnhIde5My"
      },
      "execution_count": 2,
      "outputs": []
    },
    {
      "cell_type": "code",
      "source": [
        "data = pd.read_csv(\n",
        "    '/content/data.csv')"
      ],
      "metadata": {
        "id": "RET_H46zfTL8"
      },
      "execution_count": 3,
      "outputs": []
    },
    {
      "cell_type": "code",
      "source": [
        "data.head()"
      ],
      "metadata": {
        "colab": {
          "base_uri": "https://localhost:8080/",
          "height": 582
        },
        "id": "ldWNsW1ffYbV",
        "outputId": "28012e05-b315-4209-90c9-cf42059e44c8"
      },
      "execution_count": 4,
      "outputs": [
        {
          "output_type": "execute_result",
          "data": {
            "text/html": [
              "\n",
              "  <div id=\"df-f5a4c641-4619-4090-a47e-e32bd418ba55\">\n",
              "    <div class=\"colab-df-container\">\n",
              "      <div>\n",
              "<style scoped>\n",
              "    .dataframe tbody tr th:only-of-type {\n",
              "        vertical-align: middle;\n",
              "    }\n",
              "\n",
              "    .dataframe tbody tr th {\n",
              "        vertical-align: top;\n",
              "    }\n",
              "\n",
              "    .dataframe thead th {\n",
              "        text-align: right;\n",
              "    }\n",
              "</style>\n",
              "<table border=\"1\" class=\"dataframe\">\n",
              "  <thead>\n",
              "    <tr style=\"text-align: right;\">\n",
              "      <th></th>\n",
              "      <th>Timestamp</th>\n",
              "      <th>Nama</th>\n",
              "      <th>Jenis kelamin</th>\n",
              "      <th>Email</th>\n",
              "      <th>Asal kota</th>\n",
              "      <th>Mahasiswa aktif</th>\n",
              "      <th>Universitas</th>\n",
              "      <th>Jurusan</th>\n",
              "      <th>Semester</th>\n",
              "      <th>Q1</th>\n",
              "      <th>Q2</th>\n",
              "      <th>Q3</th>\n",
              "      <th>Q4</th>\n",
              "      <th>Q5</th>\n",
              "      <th>Q6</th>\n",
              "      <th>Q7</th>\n",
              "      <th>Q8</th>\n",
              "      <th>Q9</th>\n",
              "      <th>Q10</th>\n",
              "      <th>SUM faktor 1</th>\n",
              "      <th>SUM faktor 2</th>\n",
              "    </tr>\n",
              "  </thead>\n",
              "  <tbody>\n",
              "    <tr>\n",
              "      <th>0</th>\n",
              "      <td>2021/11/08 12:23:19 PM GMT+8</td>\n",
              "      <td>Salim</td>\n",
              "      <td>Laki-laki</td>\n",
              "      <td>muhammadsalimmulya@gmail.com</td>\n",
              "      <td>Banjarmasin</td>\n",
              "      <td>Benar</td>\n",
              "      <td>Uiversitas Lambung Mangkurat</td>\n",
              "      <td>Ilmu Komunikasi</td>\n",
              "      <td>3</td>\n",
              "      <td>2</td>\n",
              "      <td>2</td>\n",
              "      <td>2</td>\n",
              "      <td>3</td>\n",
              "      <td>3</td>\n",
              "      <td>2</td>\n",
              "      <td>4</td>\n",
              "      <td>2</td>\n",
              "      <td>0</td>\n",
              "      <td>2</td>\n",
              "      <td>12</td>\n",
              "      <td>10</td>\n",
              "    </tr>\n",
              "    <tr>\n",
              "      <th>1</th>\n",
              "      <td>2021/11/08 12:34:33 PM GMT+8</td>\n",
              "      <td>Chelvin Oktavio</td>\n",
              "      <td>Laki-laki</td>\n",
              "      <td>nurchelvin@gmail.com</td>\n",
              "      <td>banjarmasin</td>\n",
              "      <td>Benar</td>\n",
              "      <td>uniska</td>\n",
              "      <td>ti</td>\n",
              "      <td>3</td>\n",
              "      <td>2</td>\n",
              "      <td>2</td>\n",
              "      <td>3</td>\n",
              "      <td>3</td>\n",
              "      <td>2</td>\n",
              "      <td>1</td>\n",
              "      <td>3</td>\n",
              "      <td>2</td>\n",
              "      <td>1</td>\n",
              "      <td>2</td>\n",
              "      <td>12</td>\n",
              "      <td>9</td>\n",
              "    </tr>\n",
              "    <tr>\n",
              "      <th>2</th>\n",
              "      <td>2021/11/08 12:35:58 PM GMT+8</td>\n",
              "      <td>M. Al Piqri</td>\n",
              "      <td>Laki-laki</td>\n",
              "      <td>mhmmdalfkr007@gmail.com</td>\n",
              "      <td>Banjarmasin</td>\n",
              "      <td>Benar</td>\n",
              "      <td>Universitas Islam Kalimantan Muhammad Arsyad A...</td>\n",
              "      <td>Teknik Informatika</td>\n",
              "      <td>3</td>\n",
              "      <td>3</td>\n",
              "      <td>2</td>\n",
              "      <td>1</td>\n",
              "      <td>3</td>\n",
              "      <td>2</td>\n",
              "      <td>1</td>\n",
              "      <td>3</td>\n",
              "      <td>1</td>\n",
              "      <td>0</td>\n",
              "      <td>2</td>\n",
              "      <td>11</td>\n",
              "      <td>7</td>\n",
              "    </tr>\n",
              "    <tr>\n",
              "      <th>3</th>\n",
              "      <td>2021/11/08 12:41:10 PM GMT+8</td>\n",
              "      <td>ryanifar</td>\n",
              "      <td>Laki-laki</td>\n",
              "      <td>ryanifar1414@gmail.com</td>\n",
              "      <td>banjarmasin</td>\n",
              "      <td>Benar</td>\n",
              "      <td>universitas lambung mangkurat</td>\n",
              "      <td>teknologi informasi</td>\n",
              "      <td>3</td>\n",
              "      <td>3</td>\n",
              "      <td>1</td>\n",
              "      <td>1</td>\n",
              "      <td>3</td>\n",
              "      <td>3</td>\n",
              "      <td>1</td>\n",
              "      <td>3</td>\n",
              "      <td>3</td>\n",
              "      <td>0</td>\n",
              "      <td>1</td>\n",
              "      <td>11</td>\n",
              "      <td>8</td>\n",
              "    </tr>\n",
              "    <tr>\n",
              "      <th>4</th>\n",
              "      <td>2021/11/08 1:04:55 PM GMT+8</td>\n",
              "      <td>Aldi griya wiratama</td>\n",
              "      <td>Laki-laki</td>\n",
              "      <td>wiratama17@gmail.com</td>\n",
              "      <td>Banjarmasin</td>\n",
              "      <td>Benar</td>\n",
              "      <td>Universitas islam kalimantan</td>\n",
              "      <td>Administrasi publik</td>\n",
              "      <td>3</td>\n",
              "      <td>3</td>\n",
              "      <td>3</td>\n",
              "      <td>1</td>\n",
              "      <td>3</td>\n",
              "      <td>3</td>\n",
              "      <td>1</td>\n",
              "      <td>1</td>\n",
              "      <td>2</td>\n",
              "      <td>0</td>\n",
              "      <td>2</td>\n",
              "      <td>13</td>\n",
              "      <td>6</td>\n",
              "    </tr>\n",
              "  </tbody>\n",
              "</table>\n",
              "</div>\n",
              "      <button class=\"colab-df-convert\" onclick=\"convertToInteractive('df-f5a4c641-4619-4090-a47e-e32bd418ba55')\"\n",
              "              title=\"Convert this dataframe to an interactive table.\"\n",
              "              style=\"display:none;\">\n",
              "        \n",
              "  <svg xmlns=\"http://www.w3.org/2000/svg\" height=\"24px\"viewBox=\"0 0 24 24\"\n",
              "       width=\"24px\">\n",
              "    <path d=\"M0 0h24v24H0V0z\" fill=\"none\"/>\n",
              "    <path d=\"M18.56 5.44l.94 2.06.94-2.06 2.06-.94-2.06-.94-.94-2.06-.94 2.06-2.06.94zm-11 1L8.5 8.5l.94-2.06 2.06-.94-2.06-.94L8.5 2.5l-.94 2.06-2.06.94zm10 10l.94 2.06.94-2.06 2.06-.94-2.06-.94-.94-2.06-.94 2.06-2.06.94z\"/><path d=\"M17.41 7.96l-1.37-1.37c-.4-.4-.92-.59-1.43-.59-.52 0-1.04.2-1.43.59L10.3 9.45l-7.72 7.72c-.78.78-.78 2.05 0 2.83L4 21.41c.39.39.9.59 1.41.59.51 0 1.02-.2 1.41-.59l7.78-7.78 2.81-2.81c.8-.78.8-2.07 0-2.86zM5.41 20L4 18.59l7.72-7.72 1.47 1.35L5.41 20z\"/>\n",
              "  </svg>\n",
              "      </button>\n",
              "      \n",
              "  <style>\n",
              "    .colab-df-container {\n",
              "      display:flex;\n",
              "      flex-wrap:wrap;\n",
              "      gap: 12px;\n",
              "    }\n",
              "\n",
              "    .colab-df-convert {\n",
              "      background-color: #E8F0FE;\n",
              "      border: none;\n",
              "      border-radius: 50%;\n",
              "      cursor: pointer;\n",
              "      display: none;\n",
              "      fill: #1967D2;\n",
              "      height: 32px;\n",
              "      padding: 0 0 0 0;\n",
              "      width: 32px;\n",
              "    }\n",
              "\n",
              "    .colab-df-convert:hover {\n",
              "      background-color: #E2EBFA;\n",
              "      box-shadow: 0px 1px 2px rgba(60, 64, 67, 0.3), 0px 1px 3px 1px rgba(60, 64, 67, 0.15);\n",
              "      fill: #174EA6;\n",
              "    }\n",
              "\n",
              "    [theme=dark] .colab-df-convert {\n",
              "      background-color: #3B4455;\n",
              "      fill: #D2E3FC;\n",
              "    }\n",
              "\n",
              "    [theme=dark] .colab-df-convert:hover {\n",
              "      background-color: #434B5C;\n",
              "      box-shadow: 0px 1px 3px 1px rgba(0, 0, 0, 0.15);\n",
              "      filter: drop-shadow(0px 1px 2px rgba(0, 0, 0, 0.3));\n",
              "      fill: #FFFFFF;\n",
              "    }\n",
              "  </style>\n",
              "\n",
              "      <script>\n",
              "        const buttonEl =\n",
              "          document.querySelector('#df-f5a4c641-4619-4090-a47e-e32bd418ba55 button.colab-df-convert');\n",
              "        buttonEl.style.display =\n",
              "          google.colab.kernel.accessAllowed ? 'block' : 'none';\n",
              "\n",
              "        async function convertToInteractive(key) {\n",
              "          const element = document.querySelector('#df-f5a4c641-4619-4090-a47e-e32bd418ba55');\n",
              "          const dataTable =\n",
              "            await google.colab.kernel.invokeFunction('convertToInteractive',\n",
              "                                                     [key], {});\n",
              "          if (!dataTable) return;\n",
              "\n",
              "          const docLinkHtml = 'Like what you see? Visit the ' +\n",
              "            '<a target=\"_blank\" href=https://colab.research.google.com/notebooks/data_table.ipynb>data table notebook</a>'\n",
              "            + ' to learn more about interactive tables.';\n",
              "          element.innerHTML = '';\n",
              "          dataTable['output_type'] = 'display_data';\n",
              "          await google.colab.output.renderOutput(dataTable, element);\n",
              "          const docLink = document.createElement('div');\n",
              "          docLink.innerHTML = docLinkHtml;\n",
              "          element.appendChild(docLink);\n",
              "        }\n",
              "      </script>\n",
              "    </div>\n",
              "  </div>\n",
              "  "
            ],
            "text/plain": [
              "                      Timestamp  ... SUM faktor 2\n",
              "0  2021/11/08 12:23:19 PM GMT+8  ...           10\n",
              "1  2021/11/08 12:34:33 PM GMT+8  ...            9\n",
              "2  2021/11/08 12:35:58 PM GMT+8  ...            7\n",
              "3  2021/11/08 12:41:10 PM GMT+8  ...            8\n",
              "4   2021/11/08 1:04:55 PM GMT+8  ...            6\n",
              "\n",
              "[5 rows x 21 columns]"
            ]
          },
          "metadata": {},
          "execution_count": 4
        }
      ]
    },
    {
      "cell_type": "code",
      "source": [
        "data.info()"
      ],
      "metadata": {
        "colab": {
          "base_uri": "https://localhost:8080/"
        },
        "id": "-J-Cw71sfbSo",
        "outputId": "fa692e1e-54dd-4c1a-9dbb-28a6615022e9"
      },
      "execution_count": 5,
      "outputs": [
        {
          "output_type": "stream",
          "name": "stdout",
          "text": [
            "<class 'pandas.core.frame.DataFrame'>\n",
            "RangeIndex: 42 entries, 0 to 41\n",
            "Data columns (total 21 columns):\n",
            " #   Column           Non-Null Count  Dtype \n",
            "---  ------           --------------  ----- \n",
            " 0   Timestamp        42 non-null     object\n",
            " 1   Nama             42 non-null     object\n",
            " 2   Jenis kelamin    42 non-null     object\n",
            " 3   Email            42 non-null     object\n",
            " 4   Asal kota        42 non-null     object\n",
            " 5   Mahasiswa aktif  42 non-null     object\n",
            " 6   Universitas      42 non-null     object\n",
            " 7   Jurusan          42 non-null     object\n",
            " 8   Semester         42 non-null     object\n",
            " 9   Q1               42 non-null     int64 \n",
            " 10  Q2               42 non-null     int64 \n",
            " 11  Q3               42 non-null     int64 \n",
            " 12  Q4               42 non-null     int64 \n",
            " 13  Q5               42 non-null     int64 \n",
            " 14  Q6               42 non-null     int64 \n",
            " 15  Q7               42 non-null     int64 \n",
            " 16  Q8               42 non-null     int64 \n",
            " 17  Q9               42 non-null     int64 \n",
            " 18  Q10              42 non-null     int64 \n",
            " 19  SUM faktor 1     42 non-null     int64 \n",
            " 20  SUM faktor 2     42 non-null     int64 \n",
            "dtypes: int64(12), object(9)\n",
            "memory usage: 7.0+ KB\n"
          ]
        }
      ]
    },
    {
      "cell_type": "code",
      "source": [
        "data.isnull().sum()"
      ],
      "metadata": {
        "colab": {
          "base_uri": "https://localhost:8080/"
        },
        "id": "06pdmE5DfhVl",
        "outputId": "096b92fe-817a-48b2-ac0b-d342ba4315e8"
      },
      "execution_count": 6,
      "outputs": [
        {
          "output_type": "execute_result",
          "data": {
            "text/plain": [
              "Timestamp          0\n",
              "Nama               0\n",
              "Jenis kelamin      0\n",
              "Email              0\n",
              "Asal kota          0\n",
              "Mahasiswa aktif    0\n",
              "Universitas        0\n",
              "Jurusan            0\n",
              "Semester           0\n",
              "Q1                 0\n",
              "Q2                 0\n",
              "Q3                 0\n",
              "Q4                 0\n",
              "Q5                 0\n",
              "Q6                 0\n",
              "Q7                 0\n",
              "Q8                 0\n",
              "Q9                 0\n",
              "Q10                0\n",
              "SUM faktor 1       0\n",
              "SUM faktor 2       0\n",
              "dtype: int64"
            ]
          },
          "metadata": {},
          "execution_count": 6
        }
      ]
    },
    {
      "cell_type": "code",
      "source": [
        "x = np.array(data[['Q6', 'Q7', 'Q8', 'Q9', 'Q10']])\n",
        "y = np.array(data['SUM faktor 1'])\n",
        "\n",
        "x_train = x[:34]\n",
        "x_test = x[34:]\n",
        "\n",
        "y_train = y[:34]\n",
        "y_test = y[34:]"
      ],
      "metadata": {
        "id": "QGZz7X4Yf3Js"
      },
      "execution_count": 7,
      "outputs": []
    },
    {
      "cell_type": "code",
      "source": [
        "model = linear_model.LinearRegression().fit(x_train, y_train)"
      ],
      "metadata": {
        "id": "bGVVR8rKhfYi"
      },
      "execution_count": 8,
      "outputs": []
    },
    {
      "cell_type": "code",
      "source": [
        "y_pred = model.predict(x_test)"
      ],
      "metadata": {
        "id": "UVLCeNAIjpat"
      },
      "execution_count": 14,
      "outputs": []
    },
    {
      "cell_type": "code",
      "source": [
        "print(\"Intercept: \", model.intercept_)\n",
        "\n",
        "print(\"Coefficients: \\n\", model.coef_)\n",
        "\n",
        "print(\"Mean absolute error: %.2f\" % mean_absolute_error(y_test, y_pred))\n",
        "\n",
        "print(\"Mean squared error: %.2f\" % mean_squared_error(y_test, y_pred))\n",
        "\n",
        "print(\"Coefficient of determination: %.2f\" % r2_score(y_test, y_pred))"
      ],
      "metadata": {
        "colab": {
          "base_uri": "https://localhost:8080/"
        },
        "id": "En6RCtDHkErX",
        "outputId": "854d413d-94e9-466d-ea94-000a5cba6dad"
      },
      "execution_count": 10,
      "outputs": [
        {
          "output_type": "stream",
          "name": "stdout",
          "text": [
            "Intercept:  12.817096344406394\n",
            "Coefficients: \n",
            " [ 0.10636763  0.42237353 -0.63792935 -1.58712936 -0.93093274]\n",
            "Mean absolute error: 3.98\n",
            "Mean squared error: 27.74\n",
            "Coefficient of determination: -0.69\n"
          ]
        }
      ]
    },
    {
      "cell_type": "code",
      "source": [
        "# Plot outputs\n",
        "plt.scatter(y_pred, y_test, color=\"green\")\n",
        "\n",
        "plt.show()"
      ],
      "metadata": {
        "colab": {
          "base_uri": "https://localhost:8080/",
          "height": 265
        },
        "id": "NvA5AWCokPk3",
        "outputId": "eab05a3b-7a26-4664-b604-1260d62614b8"
      },
      "execution_count": 15,
      "outputs": [
        {
          "output_type": "display_data",
          "data": {
            "image/png": "[encoded data removed]",
            "text/plain": [
              "<Figure size 432x288 with 1 Axes>"
            ]
          },
          "metadata": {
            "needs_background": "light"
          }
        }
      ]
    }
  ]
}